{
 "cells": [
  {
   "cell_type": "markdown",
   "metadata": {},
   "source": [
    "0. 所有的题目结果中，给出SQL语句和执行结果。"
   ]
  },
  {
   "cell_type": "markdown",
   "metadata": {},
   "source": [
    "1. 在新数据库中新建一张 user 表,插入几条数据,属性包含:唯一标识(id),姓名(name)性别(sex).年龄(age).联系方式(phone)，数据如下：\n",
    "\n",
    "    ('John Doe', 'Male', 25, '123-456-7890')\n",
    "\n",
    "    ('Jane Smith', 'Female', 31, '987-654-3210')\n",
    "    \n",
    "    ('Bob Johnson', 'Male', 22, '555-123-4567')"
   ]
  },
  {
   "cell_type": "markdown",
   "metadata": {},
   "source": [
    "#### 代码：\n",
    "CREATE TABLE `user` (\n",
    "    id INT AUTO_INCREMENT PRIMARY KEY,\n",
    "    name VARCHAR(100),\n",
    "    sex VARCHAR(10),\n",
    "    age INT,\n",
    "    phone VARCHAR(15)\n",
    ");\n",
    "INSERT INTO `user` (name, sex, age, phone) VALUES\n",
    "('John Doe', 'Male', 25, '123-456-7890'),\n",
    "('Jane Smith', 'Female', 31, '987-654-3210'),\n",
    "('Bob Johnson', 'Male', 22, '555-123-4567');\n",
    "SELECT * FROM `user`;\n",
    "\n",
    "#### 运行结果：\n",
    "1\tJohn Doe\tMale\t25\t123-456-7890\n",
    "2\tJane Smith\tFemale\t31\t987-654-3210\n",
    "3\tBob Johnson\tMale\t22\t555-123-4567\n",
    "（在MySql中为grid视图）"
   ]
  },
  {
   "cell_type": "markdown",
   "metadata": {},
   "source": [
    "2. 写出 SQL语句,查询 user 表中所有年龄在 20-30 范围内的用户"
   ]
  },
  {
   "cell_type": "markdown",
   "metadata": {},
   "source": [
    "#### 代码：\n",
    "SELECT * FROM `user`\n",
    "WHERE age BETWEEN 20 AND 30;\n",
    "\n",
    "#### 运行结果：\n",
    "1\tJohn Doe\tMale\t25\t123-456-7890\n",
    "3\tBob Johnson\tMale\t22\t555-123-4567"
   ]
  },
  {
   "cell_type": "markdown",
   "metadata": {},
   "source": [
    "3. 写出SQL语句，向user表中添加自己的个人信息，并添加几条和你姓名同姓的虚拟信息。"
   ]
  },
  {
   "cell_type": "markdown",
   "metadata": {},
   "source": [
    "#### 代码：\n",
    "INSERT INTO `user` (name, sex, age, phone) VALUES\n",
    "('Yu Ke', 'Male', 20, '13792762265');\n",
    "\n",
    "INSERT INTO `user` (name, sex, age, phone) VALUES\n",
    "('Yi Ke', 'Male', 28, '18629206638'),\n",
    "('Yuan Ke', 'Female', 26, '15359896080'),\n",
    "('Yue Ke', 'Male', 30, '13997708812'),\n",
    "('Yua Ke', 'Female', 10, '19132161902');\n",
    "\n",
    "SELECT * FROM `user`;\n",
    "\n",
    "#### 运行结果：\n",
    "1\tJohn Doe\tMale\t25\t123-456-7890\n",
    "2\tJane Smith\tFemale\t31\t987-654-3210\n",
    "3\tBob Johnson\tMale\t22\t555-123-4567\n",
    "4\tYu Ke\tMale\t20\t13792762265\n",
    "5\tYi Ke\tMale\t28\t18629206638\n",
    "6\tYuan Ke\tFemale\t26\t15359896080\n",
    "7\tYue Ke\tMale\t30\t13997708812\n",
    "8\tYua Ke\tFemale\t10\t19132161902"
   ]
  },
  {
   "cell_type": "markdown",
   "metadata": {},
   "source": [
    "4. 写出 SQL语句,查询 user 表中年龄在 20-30 范围内,名字包含“你的姓氏”的用户,并按照年龄从大到小排序输出"
   ]
  },
  {
   "cell_type": "markdown",
   "metadata": {},
   "source": [
    "#### 代码：\n",
    "SELECT *\n",
    "FROM `user`\n",
    "WHERE age BETWEEN 20 AND 30\n",
    "  AND name LIKE '%Ke%'\n",
    "ORDER BY age DESC;\n",
    "#### 运行结果：\n",
    "7\tYue Ke\tMale\t30\t13997708812\n",
    "5\tYi Ke\tMale\t28\t18629206638\n",
    "6\tYuan Ke\tFemale\t26\t15359896080\n",
    "4\tYu Ke\tMale\t20\t13792762265"
   ]
  },
  {
   "cell_type": "markdown",
   "metadata": {},
   "source": [
    "5. 写出 SQL 语句,计算 user 表中所有用户的平均年龄"
   ]
  },
  {
   "cell_type": "markdown",
   "metadata": {},
   "source": [
    "#### 代码：\n",
    "SELECT AVG(age) AS average_age FROM `user`;\n",
    "#### 运行结果：\n",
    "24.0000"
   ]
  },
  {
   "cell_type": "markdown",
   "metadata": {},
   "source": [
    "6. 新建两张表team 表(id,teamName)和score 表(id,teamid,userid,score)。其中score 表中的 teamid 为指向 team表id 的外键，userid 为指向 user表id的外键"
   ]
  },
  {
   "cell_type": "markdown",
   "metadata": {},
   "source": [
    "#### 代码：\n",
    "CREATE TABLE `team` (\n",
    "    id INT AUTO_INCREMENT PRIMARY KEY,\n",
    "    teamName VARCHAR(100) NOT NULL\n",
    ");\n",
    "\n",
    "CREATE TABLE `score` (\n",
    "    id INT AUTO_INCREMENT PRIMARY KEY,\n",
    "    teamid INT,\n",
    "    userid INT,\n",
    "    score INT,\n",
    "    FOREIGN KEY (teamid) REFERENCES `team`(id) ON DELETE CASCADE,\n",
    "    FOREIGN KEY (userid) REFERENCES `user`(id) ON DELETE CASCADE\n",
    ");\n",
    "\n",
    "#### 执行结果：\n",
    "表已存在，但无数据。"
   ]
  },
  {
   "cell_type": "markdown",
   "metadata": {},
   "source": [
    "7. 在team表中和score表中插入合适的记录，写出 SQL语句,查询 teamName 为“ECNU”的队伍中，年龄小于 20 的用户们，结果不得为空。"
   ]
  },
  {
   "cell_type": "markdown",
   "metadata": {},
   "source": [
    "#### 代码：\n",
    "INSERT INTO `team` (teamName) VALUES ('ECNU'), ('Team B'), ('Team C');\n",
    "\n",
    "INSERT INTO `score` (teamid, userid, score) VALUES \n",
    "(1, 1, 95),  \n",
    "(1, 3, 90),  \n",
    "(2, 2, 85),  \n",
    "(2, 4, 88),  \n",
    "(1, 5, 92),  \n",
    "(1, 6, 80),  \n",
    "(2, 7, 87),  \n",
    "(1, 8, 95);  \n",
    "\n",
    "SELECT u.*\n",
    "FROM `user` u\n",
    "JOIN `score` s ON u.id = s.userid\n",
    "JOIN `team` t ON s.teamid = t.id\n",
    "WHERE t.teamName = 'ECNU' AND u.age < 20;\n",
    "\n",
    "#### 运行结果：\n",
    "8\tYua Ke\tFemale\t10\t19132161902\n"
   ]
  },
  {
   "cell_type": "markdown",
   "metadata": {},
   "source": [
    "8. 写出 SQL 语句,计算 teamName为“ECNU”的总分(假设 score 存在 null值,nul值默认为 0 加入计算)。"
   ]
  },
  {
   "cell_type": "markdown",
   "metadata": {},
   "source": [
    "#### 代码：\n",
    "SELECT SUM(COALESCE(s.score, 0)) AS total_score\n",
    "FROM `score` s\n",
    "JOIN `team` t ON s.teamid = t.id\n",
    "WHERE t.teamName = 'ECNU';\n",
    "\n",
    "#### 运行结果：\n",
    "452\n"
   ]
  },
  {
   "cell_type": "markdown",
   "metadata": {},
   "source": [
    "9. 写出SQL语句，删除user表中个人信息的记录。"
   ]
  },
  {
   "cell_type": "markdown",
   "metadata": {},
   "source": [
    "#### 代码：\n",
    "SET SQL_SAFE_UPDATES = 0; --解除安全模式\n",
    "\n",
    "DELETE FROM `user`;\n",
    "\n",
    "SET SQL_SAFE_UPDATES = 1; --重设安全模式\n",
    "\n",
    "#### 运行结果：\n",
    "空表格"
   ]
  }
 ],
 "metadata": {
  "language_info": {
   "name": "python"
  }
 },
 "nbformat": 4,
 "nbformat_minor": 2
}
