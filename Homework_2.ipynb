{
 "cells": [
  {
   "cell_type": "code",
   "execution_count": 1,
   "metadata": {},
   "outputs": [
    {
     "name": "stdout",
     "output_type": "stream",
     "text": [
      "10 和 4 的最大公约数是: 2\n"
     ]
    }
   ],
   "source": [
    "# 1 *\n",
    "## 设 d 是 a 和 b 的最大公约数。\n",
    "## 因为 d 是 a 和 b 的公约数，所以 d 也必须是 a % b 的公约数（因为 a % b = a - k * b，其中 k 是某个整数）。\n",
    "## 因此，d 也是 b 和 a % b 的公约数。\n",
    "## 反之，如果 d 是 b 和 a % b 的公约数，那么 d 也是 a 和 b 的公约数。\n",
    "## 通过不断地将 a 和 b 替换为 b 和 a % b，最终可以将其中一个数变为 0，此时另一个数就是 a 和 b 的最大公约数。\n",
    "def gcd(a, b):\n",
    "    while b:\n",
    "        a, b = b, a % b\n",
    "    return a\n",
    "\n",
    "num1 = int(input(\"请输入第一个数: \"))\n",
    "num2 = int(input(\"请输入第二个数: \"))\n",
    "\n",
    "print(f\"{num1} 和 {num2} 的最大公约数是: {gcd(num1, num2)}\")"
   ]
  },
  {
   "cell_type": "markdown",
   "metadata": {},
   "source": [
    "## 1\n",
    "#### 输入：10 4\n",
    "#### 输出：2"
   ]
  },
  {
   "cell_type": "code",
   "execution_count": 2,
   "metadata": {},
   "outputs": [
    {
     "name": "stdout",
     "output_type": "stream",
     "text": [
      "考试成绩等级: 不合格\n"
     ]
    }
   ],
   "source": [
    "# 2\n",
    "score = float(input(\"请输入考试成绩: \"))\n",
    "\n",
    "if score < 60:\n",
    "    grade = \"不合格\"\n",
    "elif 60 <= score <= 74:\n",
    "    grade = \"合格\"\n",
    "elif 75 <= score <= 89:\n",
    "    grade = \"良好\"\n",
    "else:\n",
    "    grade = \"优秀\"\n",
    "\n",
    "print(f\"考试成绩等级: {grade}\")"
   ]
  },
  {
   "cell_type": "markdown",
   "metadata": {},
   "source": [
    "## 2\n",
    "#### 输入：50\n",
    "#### 输出：不合格"
   ]
  },
  {
   "cell_type": "code",
   "execution_count": 10,
   "metadata": {},
   "outputs": [
    {
     "name": "stdout",
     "output_type": "stream",
     "text": [
      "The binary representation of 0.625 is .101\n"
     ]
    }
   ],
   "source": [
    "# 3\n",
    "def decimal_to_binary_fraction(decimal_number):\n",
    "    if decimal_number >= 1 or decimal_number <= 0:\n",
    "        return \"ERROR\"\n",
    "\n",
    "    binary = \".\"\n",
    "    while decimal_number > 0:\n",
    "        if len(binary) >= 32:\n",
    "            return \"ERROR\"\n",
    "\n",
    "        r = decimal_number * 2\n",
    "        if r >= 1:\n",
    "            binary += \"1\"\n",
    "            decimal_number = r - 1\n",
    "        else:\n",
    "            binary += \"0\"\n",
    "            decimal_number = r\n",
    "\n",
    "    return binary\n",
    "\n",
    "\n",
    "decimal_number = float(input(\"Enter a decimal number between 0 and 1: \"))\n",
    "binary_fraction = decimal_to_binary_fraction(decimal_number)\n",
    "print(f\"The binary representation of {decimal_number} is {binary_fraction}\")"
   ]
  },
  {
   "cell_type": "markdown",
   "metadata": {},
   "source": [
    "## 3\n",
    "#### 输入：0.625\n",
    "#### 输出：The binary representation of 0.625 is .101"
   ]
  },
  {
   "cell_type": "code",
   "execution_count": 17,
   "metadata": {},
   "outputs": [
    {
     "name": "stdout",
     "output_type": "stream",
     "text": [
      "15.717436400071051\n"
     ]
    }
   ],
   "source": [
    "# 4\n",
    "import random\n",
    "\n",
    "random_float = random.uniform(10, 20)\n",
    "print(f\"{random_float}\")"
   ]
  },
  {
   "cell_type": "markdown",
   "metadata": {},
   "source": [
    "## 4 \n",
    "#### 输出：15.717436400071051"
   ]
  },
  {
   "cell_type": "code",
   "execution_count": 6,
   "metadata": {},
   "outputs": [
    {
     "name": "stdout",
     "output_type": "stream",
     "text": [
      "False\n"
     ]
    }
   ],
   "source": [
    "# 5 *\n",
    "def is_palindrome(num):\n",
    "    return str(num) == str(num)[::-1] #转化为字符串\n",
    "\n",
    "# 用户输入\n",
    "user_input = int(input(\"请输入一个整数: \"))\n",
    "print(is_palindrome(user_input))  # 输出结果\n",
    "\n",
    "\n",
    "## 另法\n",
    "# def is_palindrome(num):\n",
    "#     if num < 0:\n",
    "#         return False\n",
    "#     original = num\n",
    "#     reversed_num = 0\n",
    "#     while num > 0:\n",
    "#         digit = num % 10\n",
    "#         reversed_num = reversed_num * 10 + digit\n",
    "#         num //= 10\n",
    "#     return original == reversed_num\n",
    "\n",
    "\n",
    "# user_input = int(input(\"请输入一个整数: \"))\n",
    "# print(is_palindrome(user_input))  "
   ]
  },
  {
   "cell_type": "markdown",
   "metadata": {},
   "source": [
    "## 5\n",
    "#### 输入：131\n",
    "#### 输出：True\n",
    "#### 输入：4236972\n",
    "#### 输出：False\n"
   ]
  },
  {
   "cell_type": "code",
   "execution_count": 7,
   "metadata": {},
   "outputs": [
    {
     "name": "stdout",
     "output_type": "stream",
     "text": [
      "[0, 1, 1, 2]\n"
     ]
    }
   ],
   "source": [
    "# 6\n",
    "def fibonacci(n):\n",
    "    fib_list = []\n",
    "    a, b = 0, 1\n",
    "    for _ in range(n):\n",
    "        fib_list.append(a)\n",
    "        a, b = b, a + b\n",
    "    return fib_list\n",
    "\n",
    "# 用户输入\n",
    "n = int(input(\"请输入要生成的斐波那契数列的长度: \"))\n",
    "print(fibonacci(n))  # 输出结果\n",
    "\n"
   ]
  },
  {
   "cell_type": "markdown",
   "metadata": {},
   "source": [
    "## 6 \n",
    "#### 输入：4\n",
    "#### 输出：[0, 1, 1, 2]"
   ]
  },
  {
   "cell_type": "code",
   "execution_count": 11,
   "metadata": {},
   "outputs": [
    {
     "name": "stdout",
     "output_type": "stream",
     "text": [
      "43\n"
     ]
    }
   ],
   "source": [
    "# 7\n",
    "def second_largest(nums):\n",
    "    if len(nums) < 2:\n",
    "        return -1\n",
    "    \n",
    "    first, second = float('-inf'), float('-inf')\n",
    "    \n",
    "    for num in nums:\n",
    "        if num > first:\n",
    "            first, second = num, first\n",
    "        elif first > num > second:\n",
    "            second = num\n",
    "            \n",
    "    return second if second != float('-inf') else -1\n",
    "\n",
    "\n",
    "arr = list(map(int, input(\"请输入整数数组（用空格分隔）: \").split()))\n",
    "print(second_largest(arr)) \n"
   ]
  },
  {
   "cell_type": "markdown",
   "metadata": {},
   "source": [
    "## 7\n",
    "#### 输入：21 3 99 43 29\n",
    "#### 输出：43"
   ]
  },
  {
   "cell_type": "code",
   "execution_count": 4,
   "metadata": {},
   "outputs": [
    {
     "name": "stdout",
     "output_type": "stream",
     "text": [
      "身份证号合法\n"
     ]
    }
   ],
   "source": [
    "# 8 *\n",
    "import re\n",
    "\n",
    "def validate_id_card(id_card):\n",
    "    pattern = r'^[1-9]\\d{5}(19|20)\\d{2}(0[1-9]|1[0-2])(0[1-9]|[12]\\d|3[01])\\d{3}(\\d|X)$'\n",
    "    return bool(re.match(pattern, id_card))\n",
    "\n",
    "id_card = input(\"请输入身份证号: \")\n",
    "if validate_id_card(id_card):\n",
    "    print(\"身份证号合法\")\n",
    "else:\n",
    "    print(\"身份证号不合法\")"
   ]
  },
  {
   "cell_type": "markdown",
   "metadata": {},
   "source": [
    "## 8 \n",
    "#### 检验所有不合法情况均被排除"
   ]
  }
 ],
 "metadata": {
  "kernelspec": {
   "display_name": "Python 3",
   "language": "python",
   "name": "python3"
  },
  "language_info": {
   "codemirror_mode": {
    "name": "ipython",
    "version": 3
   },
   "file_extension": ".py",
   "mimetype": "text/x-python",
   "name": "python",
   "nbconvert_exporter": "python",
   "pygments_lexer": "ipython3",
   "version": "3.12.2"
  }
 },
 "nbformat": 4,
 "nbformat_minor": 2
}
