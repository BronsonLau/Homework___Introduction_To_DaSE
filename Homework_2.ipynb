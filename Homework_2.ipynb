{
 "cells": [
  {
   "cell_type": "code",
   "execution_count": 4,
   "metadata": {},
   "outputs": [
    {
     "name": "stdout",
     "output_type": "stream",
     "text": [
      "2 3 5\n"
     ]
    }
   ],
   "source": [
    "# 1\n",
    "x = input(\"ENTER A NUMBER X :\")\n",
    "y = input(\"ENTER A NUMBER Y :\")\n",
    "z = input(\"ENTER A NUMBER Z :\")\n",
    "\n",
    "numbers = [int(x), int(y), int(z)]\n",
    "numbers.sort()\n",
    "print(\" \".join(map(str, numbers)))"
   ]
  },
  {
   "cell_type": "markdown",
   "metadata": {},
   "source": [
    "## 1\n",
    "#### 输入：5 2 3\n",
    "#### 输出：2 3 5"
   ]
  },
  {
   "cell_type": "code",
   "execution_count": 8,
   "metadata": {},
   "outputs": [
    {
     "name": "stdout",
     "output_type": "stream",
     "text": [
      "1 3 5 7 9 11 13 15 17 19 21 23 25 27 29 31 33 35 37 39 41 43 45 47 49 51 53 55 57 59 61 63 65 67 69 71 73 75 77 79 81 83 85 87 89 91 93 95 97 99 \n",
      "\n",
      "小于50的奇数和 :  625\n"
     ]
    }
   ],
   "source": [
    "# 2\n",
    "count = 0\n",
    "for number in range (1 , 101):\n",
    "    if number % 2 == 1:\n",
    "        print(number , end = \" \")\n",
    "        if number < 50:\n",
    "            count += number\n",
    "\n",
    "print(\"\\n\")\n",
    "print(\"小于50的奇数和 : \", count)\n"
   ]
  },
  {
   "cell_type": "markdown",
   "metadata": {},
   "source": [
    "## 2\n",
    "#### 输出：\n",
    "#### 1 3 5 7 9 11 13 15 17 19 21 23 25 27 29 31 33 35 37 39 41 43 45 47 49 51 53 55 57 59 61 63 65 67 69 71 73 75 77 79 81 83 85 87 89 91 93 95 97 99 \n",
    "\n",
    "#### 小于50的奇数和 :  625"
   ]
  },
  {
   "cell_type": "code",
   "execution_count": 10,
   "metadata": {},
   "outputs": [
    {
     "name": "stdout",
     "output_type": "stream",
     "text": [
      "The binary representation of 0.625 is .101\n"
     ]
    }
   ],
   "source": [
    "# 3\n",
    "def decimal_to_binary_fraction(decimal_number):\n",
    "    if decimal_number >= 1 or decimal_number <= 0:\n",
    "        return \"ERROR\"\n",
    "\n",
    "    binary = \".\"\n",
    "    while decimal_number > 0:\n",
    "        if len(binary) >= 32:\n",
    "            return \"ERROR\"\n",
    "\n",
    "        r = decimal_number * 2\n",
    "        if r >= 1:\n",
    "            binary += \"1\"\n",
    "            decimal_number = r - 1\n",
    "        else:\n",
    "            binary += \"0\"\n",
    "            decimal_number = r\n",
    "\n",
    "    return binary\n",
    "\n",
    "\n",
    "decimal_number = float(input(\"Enter a decimal number between 0 and 1: \"))\n",
    "binary_fraction = decimal_to_binary_fraction(decimal_number)\n",
    "print(f\"The binary representation of {decimal_number} is {binary_fraction}\")"
   ]
  },
  {
   "cell_type": "markdown",
   "metadata": {},
   "source": [
    "## 3\n",
    "#### 输入：0.625\n",
    "#### 输出：The binary representation of 0.625 is .101"
   ]
  },
  {
   "cell_type": "code",
   "execution_count": 17,
   "metadata": {},
   "outputs": [
    {
     "name": "stdout",
     "output_type": "stream",
     "text": [
      "15.717436400071051\n"
     ]
    }
   ],
   "source": [
    "# 4\n",
    "import random\n",
    "\n",
    "random_float = random.uniform(10, 20)\n",
    "print(f\"{random_float}\")"
   ]
  },
  {
   "cell_type": "markdown",
   "metadata": {},
   "source": [
    "## 4 \n",
    "#### 输出：有效"
   ]
  },
  {
   "cell_type": "code",
   "execution_count": 25,
   "metadata": {},
   "outputs": [
    {
     "name": "stdout",
     "output_type": "stream",
     "text": [
      "身份证号不合法\n"
     ]
    }
   ],
   "source": [
    "# 5 *\n",
    "import re\n",
    "\n",
    "def validate_id_card(id_card):\n",
    "    pattern = r'^[1-9]\\d{5}(19|20)\\d{2}(0[1-9]|1[0-2])(0[1-9]|[12]\\d|3[01])\\d{3}(\\d|X)$'\n",
    "    return bool(re.match(pattern, id_card))\n",
    "\n",
    "id_card = input(\"请输入身份证号: \")\n",
    "if validate_id_card(id_card):\n",
    "    print(\"身份证号合法\")\n",
    "else:\n",
    "    print(\"身份证号不合法\")"
   ]
  },
  {
   "cell_type": "markdown",
   "metadata": {},
   "source": [
    "## 5 \n",
    "#### 检验所有不合法情况均被排除"
   ]
  },
  {
   "cell_type": "code",
   "execution_count": 18,
   "metadata": {},
   "outputs": [
    {
     "name": "stdout",
     "output_type": "stream",
     "text": [
      "2 4 6 8 10 12 14 16 18 20 22 24 26 28 30 32 34 36 38 40 42 44 46 48 50 52 54 56 58 60 62 64 66 68 70 72 74 76 78 80 82 84 86 88 90 92 94 96 98 100 "
     ]
    }
   ],
   "source": [
    "# 6\n",
    "for number in range (1 , 101):\n",
    "    if number % 2 == 0:\n",
    "        print(number , end = \" \")\n"
   ]
  },
  {
   "cell_type": "markdown",
   "metadata": {},
   "source": [
    "## 6 \n",
    "#### 输出：2 4 6 8 10 12 14 16 18 20 22 24 26 28 30 32 34 36 38 40 42 44 46 48 50 52 54 56 58 60 62 64 66 68 70 72 74 76 78 80 82 84 86 88 90 92 94 96 98 100"
   ]
  },
  {
   "cell_type": "code",
   "execution_count": 19,
   "metadata": {},
   "outputs": [
    {
     "name": "stdout",
     "output_type": "stream",
     "text": [
      "考试成绩等级: 不合格\n"
     ]
    }
   ],
   "source": [
    "# 7\n",
    "score = float(input(\"请输入考试成绩: \"))\n",
    "\n",
    "if score < 60:\n",
    "    grade = \"不合格\"\n",
    "elif 60 <= score <= 74:\n",
    "    grade = \"合格\"\n",
    "elif 75 <= score <= 89:\n",
    "    grade = \"良好\"\n",
    "else:\n",
    "    grade = \"优秀\"\n",
    "\n",
    "print(f\"考试成绩等级: {grade}\")"
   ]
  },
  {
   "cell_type": "markdown",
   "metadata": {},
   "source": [
    "## 7\n",
    "#### 输入：50\n",
    "#### 输出：考试成绩等级: 不合格"
   ]
  },
  {
   "cell_type": "code",
   "execution_count": 26,
   "metadata": {},
   "outputs": [
    {
     "name": "stdout",
     "output_type": "stream",
     "text": [
      "4 和 10 的最大公约数是: 2\n"
     ]
    }
   ],
   "source": [
    "# 8 *\n",
    "## 设 d 是 a 和 b 的最大公约数。\n",
    "## 因为 d 是 a 和 b 的公约数，所以 d 也必须是 a % b 的公约数（因为 a % b = a - k * b，其中 k 是某个整数）。\n",
    "## 因此，d 也是 b 和 a % b 的公约数。\n",
    "## 反之，如果 d 是 b 和 a % b 的公约数，那么 d 也是 a 和 b 的公约数。\n",
    "## 通过不断地将 a 和 b 替换为 b 和 a % b，最终可以将其中一个数变为 0，此时另一个数就是 a 和 b 的最大公约数。\n",
    "def gcd(a, b):\n",
    "    while b:\n",
    "        a, b = b, a % b\n",
    "    return a\n",
    "\n",
    "num1 = int(input(\"请输入第一个数: \"))\n",
    "num2 = int(input(\"请输入第二个数: \"))\n",
    "\n",
    "print(f\"{num1} 和 {num2} 的最大公约数是: {gcd(num1, num2)}\")"
   ]
  },
  {
   "cell_type": "markdown",
   "metadata": {},
   "source": [
    "## 8\n",
    "#### 输入：4 10\n",
    "#### 输出：4 和 10 的最大公约数是: 2   "
   ]
  }
 ],
 "metadata": {
  "kernelspec": {
   "display_name": "Python 3",
   "language": "python",
   "name": "python3"
  },
  "language_info": {
   "codemirror_mode": {
    "name": "ipython",
    "version": 3
   },
   "file_extension": ".py",
   "mimetype": "text/x-python",
   "name": "python",
   "nbconvert_exporter": "python",
   "pygments_lexer": "ipython3",
   "version": "3.12.2"
  }
 },
 "nbformat": 4,
 "nbformat_minor": 2
}
