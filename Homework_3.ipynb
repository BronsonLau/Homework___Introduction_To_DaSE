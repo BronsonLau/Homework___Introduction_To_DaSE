{
 "cells": [
  {
   "cell_type": "markdown",
   "metadata": {},
   "source": [
    "### 1.编写 Python程序,判断输入a是否为质数"
   ]
  },
  {
   "cell_type": "code",
   "execution_count": 1,
   "metadata": {},
   "outputs": [
    {
     "name": "stdout",
     "output_type": "stream",
     "text": [
      "1 不是质数。\n"
     ]
    }
   ],
   "source": [
    "# 1.1 直接用库耍赖法\n",
    "\n",
    "\n",
    "from sympy import isprime\n",
    "\n",
    "# 获取用户输入\n",
    "a = int(input(\"请输入一个整数: \"))\n",
    "\n",
    "# 判断并输出结果\n",
    "if isprime(a):\n",
    "    print(f\"{a} 是质数。\")\n",
    "else:\n",
    "    print(f\"{a} 不是质数。\")\n",
    "\n",
    "\n",
    "\n"
   ]
  },
  {
   "cell_type": "code",
   "execution_count": null,
   "metadata": {},
   "outputs": [],
   "source": [
    "# 1.2 试错法\n",
    "import math\n",
    "\n",
    "def is_prime_improved(a):\n",
    "    if a <= 1:\n",
    "        return False\n",
    "    if a <= 3:\n",
    "        return True\n",
    "    if a % 2 == 0 or a % 3 == 0:\n",
    "        return False\n",
    "    for i in range(5, int(math.sqrt(a)) + 1, 6):\n",
    "        if a % i == 0 or a % (i + 2) == 0:\n",
    "            return False\n",
    "    return True\n",
    "\n",
    "a = int(input(\"请输入一个整数: \"))\n",
    "\n",
    "if is_prime_improved(a):\n",
    "    print(f\"{a} 是质数。\")\n",
    "else:\n",
    "    print(f\"{a} 不是质数。\")\n"
   ]
  },
  {
   "cell_type": "code",
   "execution_count": 2,
   "metadata": {},
   "outputs": [
    {
     "name": "stdout",
     "output_type": "stream",
     "text": [
      "11 是质数。\n"
     ]
    }
   ],
   "source": [
    "# 1.3  \n",
    "\n",
    "def is_prime(a):\n",
    "    # 负数、0和1不是质数\n",
    "    if a <= 1:\n",
    "        return False\n",
    "    # 2和3是质数\n",
    "    if a <= 3:\n",
    "        return True\n",
    "    # 排除2和3的倍数\n",
    "    if a % 2 == 0 or a % 3 == 0:\n",
    "        return False\n",
    "    # 试除从5开始，步长为6（即检查6k±1的数字）\n",
    "    i = 5\n",
    "    while i * i <= a:\n",
    "        if a % i == 0 or a % (i + 2) == 0:\n",
    "            return False\n",
    "        i += 6\n",
    "    return True\n",
    "\n",
    "# 获取用户输入\n",
    "a = int(input(\"请输入一个整数: \"))\n",
    "\n",
    "# 判断并输出结果\n",
    "if is_prime(a):\n",
    "    print(f\"{a} 是质数。\")\n",
    "else:\n",
    "    print(f\"{a} 不是质数。\")\n"
   ]
  },
  {
   "cell_type": "markdown",
   "metadata": {},
   "source": [
    "### 2. 用Python实现插入排序该算法，不允许直接调用插入排序函数，需要手动实现其逻辑过程。"
   ]
  },
  {
   "cell_type": "code",
   "execution_count": 16,
   "metadata": {},
   "outputs": [
    {
     "name": "stdout",
     "output_type": "stream",
     "text": [
      "排序前: [12, 11, 13, 5, 6]\n",
      "排序后: [5, 6, 11, 12, 13]\n"
     ]
    }
   ],
   "source": [
    "2 \n",
    "\n",
    "def insertion_sort(arr):\n",
    "    # 遍历数组从第二个元素开始\n",
    "    for i in range(1, len(arr)):\n",
    "        key = arr[i]\n",
    "        # 将当前元素插入到已排序部分的正确位置\n",
    "        j = i - 1\n",
    "        while j >= 0 and key < arr[j]:\n",
    "            arr[j + 1] = arr[j]\n",
    "            j -= 1\n",
    "        arr[j + 1] = key\n",
    "\n",
    "# 测试插入排序函数\n",
    "arr = [12, 11, 13, 5, 6]\n",
    "print(\"排序前:\", arr)\n",
    "insertion_sort(arr)\n",
    "print(\"排序后:\", arr)\n"
   ]
  },
  {
   "cell_type": "markdown",
   "metadata": {},
   "source": [
    "### 3. 用Python实现选择排序该算法，不允许直接调用插入排序函数，需要手动实现其逻辑过程。"
   ]
  },
  {
   "cell_type": "code",
   "execution_count": 15,
   "metadata": {},
   "outputs": [
    {
     "name": "stdout",
     "output_type": "stream",
     "text": [
      "排序前: [64, 25, 12, 22, 11]\n",
      "排序后: [11, 12, 22, 25, 64]\n"
     ]
    }
   ],
   "source": [
    "def selection_sort(arr):\n",
    "    # 遍历数组\n",
    "    for i in range(len(arr)):\n",
    "        # 假设当前元素是最小的\n",
    "        min_idx = i\n",
    "        # 在未排序部分中寻找最小元素\n",
    "        for j in range(i + 1, len(arr)):\n",
    "            if arr[j] < arr[min_idx]:\n",
    "                min_idx = j\n",
    "        # 交换找到的最小元素与当前元素\n",
    "        arr[i], arr[min_idx] = arr[min_idx], arr[i]\n",
    "\n",
    "# 测试选择排序函数\n",
    "arr = [64, 25, 12, 22, 11]\n",
    "print(\"排序前:\", arr)\n",
    "selection_sort(arr)\n",
    "print(\"排序后:\", arr)\n"
   ]
  },
  {
   "cell_type": "markdown",
   "metadata": {},
   "source": [
    "### 4. 用Python实现快速排序该算法，不允许直接调用插入排序函数，需要手动实现其逻辑过程。"
   ]
  },
  {
   "cell_type": "code",
   "execution_count": 14,
   "metadata": {},
   "outputs": [
    {
     "name": "stdout",
     "output_type": "stream",
     "text": [
      "排序前: [10, 7, 8, 9, 1, 5]\n",
      "排序后: [1, 5, 7, 8, 9, 10]\n"
     ]
    }
   ],
   "source": [
    "def quicksort(arr):\n",
    "    # 定义辅助函数来进行快速排序\n",
    "    def quicksort_helper(arr, low, high):\n",
    "        if low < high:\n",
    "            # 获取分区索引\n",
    "            pi = partition(arr, low, high)\n",
    "            # 对分区后的两个子数组进行快速排序\n",
    "            quicksort_helper(arr, low, pi - 1)\n",
    "            quicksort_helper(arr, pi + 1, high)\n",
    "    \n",
    "    # 定义分区函数\n",
    "    def partition(arr, low, high):\n",
    "        pivot = arr[high]  # 选择最后一个元素作为枢轴\n",
    "        i = low - 1  # 较小元素的索引\n",
    "        for j in range(low, high):\n",
    "            if arr[j] < pivot:\n",
    "                i += 1\n",
    "                arr[i], arr[j] = arr[j], arr[i]  # 交换\n",
    "        arr[i + 1], arr[high] = arr[high], arr[i + 1]  # 将枢轴放在正确位置\n",
    "        return i + 1\n",
    "\n",
    "    # 调用辅助函数进行排序\n",
    "    quicksort_helper(arr, 0, len(arr) - 1)\n",
    "\n",
    "# 测试快速排序函数\n",
    "arr = [10, 7, 8, 9, 1, 5]\n",
    "print(\"排序前:\", arr)\n",
    "quicksort(arr)\n",
    "print(\"排序后:\", arr)\n"
   ]
  },
  {
   "cell_type": "markdown",
   "metadata": {},
   "source": [
    "### 5. 使用 Python 随机生成三组长度递增的随机数列，长度分别为100、1000、10000，对生成的随机数组使用不同的排序算法，例如选择排序和归并排序，至少三种排序方法。对这些数列的数据排序，并分析不同排序算法在不同长度数列下的运行效果，例如运行时间等指标。"
   ]
  },
  {
   "cell_type": "code",
   "execution_count": 21,
   "metadata": {},
   "outputs": [
    {
     "name": "stdout",
     "output_type": "stream",
     "text": [
      "Size: 100, Algorithm: Selection Sort, Time: 0.000000000 seconds\n",
      "Size: 100, Algorithm: Quick Sort, Time: 0.000000000 seconds\n",
      "Size: 100, Algorithm: Merge Sort, Time: 0.000000000 seconds\n",
      "Size: 1000, Algorithm: Selection Sort, Time: 0.052769899 seconds\n",
      "Size: 1000, Algorithm: Quick Sort, Time: 0.008061647 seconds\n",
      "Size: 1000, Algorithm: Merge Sort, Time: 0.000000000 seconds\n",
      "Size: 10000, Algorithm: Selection Sort, Time: 2.713617086 seconds\n",
      "Size: 10000, Algorithm: Quick Sort, Time: 0.016437531 seconds\n",
      "Size: 10000, Algorithm: Merge Sort, Time: 0.038731098 seconds\n",
      "\n",
      "Array Size: 100\n",
      "Selection Sort: 0.000000 seconds\n",
      "Quick Sort: 0.000000 seconds\n",
      "Merge Sort: 0.000000 seconds\n",
      "\n",
      "Array Size: 1000\n",
      "Selection Sort: 0.052770 seconds\n",
      "Quick Sort: 0.008062 seconds\n",
      "Merge Sort: 0.000000 seconds\n",
      "\n",
      "Array Size: 10000\n",
      "Selection Sort: 2.713617 seconds\n",
      "Quick Sort: 0.016438 seconds\n",
      "Merge Sort: 0.038731 seconds\n"
     ]
    }
   ],
   "source": [
    "# 5.1\n",
    "import random\n",
    "import time\n",
    "\n",
    "# 选择排序算法\n",
    "def selection_sort(arr):\n",
    "    for i in range(len(arr)):\n",
    "        min_idx = i\n",
    "        for j in range(i + 1, len(arr)):\n",
    "            if arr[j] < arr[min_idx]:\n",
    "                min_idx = j\n",
    "        arr[i], arr[min_idx] = arr[min_idx], arr[i]\n",
    "\n",
    "# 快速排序算法\n",
    "def quicksort(arr):\n",
    "    def quicksort_helper(arr, low, high):\n",
    "        if low < high:\n",
    "            pi = partition(arr, low, high)\n",
    "            quicksort_helper(arr, low, pi - 1)\n",
    "            quicksort_helper(arr, pi + 1, high)\n",
    "\n",
    "    def partition(arr, low, high):\n",
    "        pivot = arr[high]\n",
    "        i = low - 1\n",
    "        for j in range(low, high):\n",
    "            if arr[j] < pivot:\n",
    "                i += 1\n",
    "                arr[i], arr[j] = arr[j], arr[i]\n",
    "        arr[i + 1], arr[high] = arr[high], arr[i + 1]\n",
    "        return i + 1\n",
    "\n",
    "    quicksort_helper(arr, 0, len(arr) - 1)\n",
    "\n",
    "# 归并排序算法\n",
    "def merge_sort(arr):\n",
    "    if len(arr) > 1:\n",
    "        mid = len(arr) // 2\n",
    "        L = arr[:mid]\n",
    "        R = arr[mid:]\n",
    "\n",
    "        merge_sort(L)\n",
    "        merge_sort(R)\n",
    "\n",
    "        i = j = k = 0\n",
    "\n",
    "        while i < len(L) and j < len(R):\n",
    "            if L[i] < R[j]:\n",
    "                arr[k] = L[i]\n",
    "                i += 1\n",
    "            else:\n",
    "                arr[k] = R[j]\n",
    "                j += 1\n",
    "            k += 1\n",
    "\n",
    "        while i < len(L):\n",
    "            arr[k] = L[i]\n",
    "            i += 1\n",
    "            k += 1\n",
    "\n",
    "        while j < len(R):\n",
    "            arr[k] = R[j]\n",
    "            j += 1\n",
    "            k += 1\n",
    "\n",
    "# 生成随机数列\n",
    "def generate_random_array(size):\n",
    "    return [random.randint(0, 100000) for _ in range(size)]\n",
    "\n",
    "# 测试排序算法的运行时间\n",
    "def test_sorting_algorithm(algorithm, data):\n",
    "    start_time = time.time()\n",
    "    algorithm(data)\n",
    "    end_time = time.time()\n",
    "    return end_time - start_time\n",
    "\n",
    "# 数组大小\n",
    "sizes = [100, 1000, 10000]\n",
    "\n",
    "# 排序算法\n",
    "algorithms = {\n",
    "    \"Selection Sort\": selection_sort,\n",
    "    \"Quick Sort\": quicksort,\n",
    "    \"Merge Sort\": merge_sort\n",
    "}\n",
    "\n",
    "\n",
    "results = {}\n",
    "\n",
    "for size in sizes:\n",
    "    results[size] = {}\n",
    "    data = generate_random_array(size)\n",
    "    for name, algorithm in algorithms.items():\n",
    "        data_copy = data[:]\n",
    "        duration = test_sorting_algorithm(algorithm, data_copy)\n",
    "        results[size][name] = duration\n",
    "        print(f\"Size: {size}, Algorithm: {name}, Time: {duration:.9f} seconds\")\n",
    "\n",
    "# 输出结果\n",
    "for size in sizes:\n",
    "    print(f\"\\nArray Size: {size}\")\n",
    "    for name, duration in results[size].items():\n",
    "        print(f\"{name}: {duration:.6f} seconds\")\n"
   ]
  },
  {
   "cell_type": "code",
   "execution_count": 19,
   "metadata": {},
   "outputs": [
    {
     "name": "stdout",
     "output_type": "stream",
     "text": [
      "Size: 100, Algorithm: Selection Sort, Time: 0.000000 seconds, Peak Memory: 0.18 KB\n",
      "Size: 100, Algorithm: Quick Sort, Time: 0.000000 seconds, Peak Memory: 0.68 KB\n",
      "Size: 100, Algorithm: Merge Sort, Time: 0.000000 seconds, Peak Memory: 1.64 KB\n",
      "Size: 1000, Algorithm: Selection Sort, Time: 0.504416 seconds, Peak Memory: 13.75 KB\n",
      "Size: 1000, Algorithm: Quick Sort, Time: 0.015595 seconds, Peak Memory: 2.08 KB\n",
      "Size: 1000, Algorithm: Merge Sort, Time: 0.016036 seconds, Peak Memory: 15.66 KB\n",
      "Size: 10000, Algorithm: Selection Sort, Time: 42.435692 seconds, Peak Memory: 3.21 KB\n",
      "Size: 10000, Algorithm: Quick Sort, Time: 0.261400 seconds, Peak Memory: 4.63 KB\n",
      "Size: 10000, Algorithm: Merge Sort, Time: 0.258065 seconds, Peak Memory: 157.09 KB\n",
      "\n",
      "Array Size: 100\n",
      "Selection Sort: Time: 0.000000 seconds, Peak Memory: 0.18 KB\n",
      "Quick Sort: Time: 0.000000 seconds, Peak Memory: 0.68 KB\n",
      "Merge Sort: Time: 0.000000 seconds, Peak Memory: 1.64 KB\n",
      "\n",
      "Array Size: 1000\n",
      "Selection Sort: Time: 0.504416 seconds, Peak Memory: 13.75 KB\n",
      "Quick Sort: Time: 0.015595 seconds, Peak Memory: 2.08 KB\n",
      "Merge Sort: Time: 0.016036 seconds, Peak Memory: 15.66 KB\n",
      "\n",
      "Array Size: 10000\n",
      "Selection Sort: Time: 42.435692 seconds, Peak Memory: 3.21 KB\n",
      "Quick Sort: Time: 0.261400 seconds, Peak Memory: 4.63 KB\n",
      "Merge Sort: Time: 0.258065 seconds, Peak Memory: 157.09 KB\n"
     ]
    }
   ],
   "source": [
    "# 5.2\n",
    "import random\n",
    "import time\n",
    "import tracemalloc\n",
    "\n",
    "# 选择排序算法\n",
    "def selection_sort(arr):\n",
    "    for i in range(len(arr)):\n",
    "        min_idx = i\n",
    "        for j in range(i + 1, len(arr)):\n",
    "            if arr[j] < arr[min_idx]:\n",
    "                min_idx = j\n",
    "        arr[i], arr[min_idx] = arr[min_idx], arr[i]\n",
    "\n",
    "# 快速排序算法\n",
    "def quicksort(arr):\n",
    "    def quicksort_helper(arr, low, high):\n",
    "        if low < high:\n",
    "            pi = partition(arr, low, high)\n",
    "            quicksort_helper(arr, low, pi - 1)\n",
    "            quicksort_helper(arr, pi + 1, high)\n",
    "\n",
    "    def partition(arr, low, high):\n",
    "        pivot = arr[high]\n",
    "        i = low - 1\n",
    "        for j in range(low, high):\n",
    "            if arr[j] < pivot:\n",
    "                i += 1\n",
    "                arr[i], arr[j] = arr[j], arr[i]\n",
    "        arr[i + 1], arr[high] = arr[high], arr[i + 1]\n",
    "        return i + 1\n",
    "\n",
    "    quicksort_helper(arr, 0, len(arr) - 1)\n",
    "\n",
    "# 归并排序算法\n",
    "def merge_sort(arr):\n",
    "    if len(arr) > 1:\n",
    "        mid = len(arr) // 2\n",
    "        L = arr[:mid]\n",
    "        R = arr[mid:]\n",
    "\n",
    "        merge_sort(L)\n",
    "        merge_sort(R)\n",
    "\n",
    "        i = j = k = 0\n",
    "\n",
    "        while i < len(L) and j < len(R):\n",
    "            if L[i] < R[j]:\n",
    "                arr[k] = L[i]\n",
    "                i += 1\n",
    "            else:\n",
    "                arr[k] = R[j]\n",
    "                j += 1\n",
    "            k += 1\n",
    "\n",
    "        while i < len(L):\n",
    "            arr[k] = L[i]\n",
    "            i += 1\n",
    "            k += 1\n",
    "\n",
    "        while j < len(R):\n",
    "            arr[k] = R[j]\n",
    "            j += 1\n",
    "            k += 1\n",
    "\n",
    "# 生成随机数列\n",
    "def generate_random_array(size):\n",
    "    return [random.randint(0, 100000) for _ in range(size)]\n",
    "\n",
    "# 测试排序算法的运行时间和内存占用\n",
    "def test_sorting_algorithm(algorithm, data):\n",
    "    tracemalloc.start()\n",
    "    start_time = time.time()\n",
    "    algorithm(data)\n",
    "    end_time = time.time()\n",
    "    current, peak = tracemalloc.get_traced_memory()\n",
    "    tracemalloc.stop()\n",
    "    return end_time - start_time, peak\n",
    "\n",
    "# 数组大小\n",
    "sizes = [100, 1000, 10000]\n",
    "\n",
    "# 排序算法\n",
    "algorithms = {\n",
    "    \"Selection Sort\": selection_sort,\n",
    "    \"Quick Sort\": quicksort,\n",
    "    \"Merge Sort\": merge_sort\n",
    "}\n",
    "\n",
    "# 运行测试\n",
    "results = {}\n",
    "\n",
    "for size in sizes:\n",
    "    results[size] = {}\n",
    "    data = generate_random_array(size)\n",
    "    for name, algorithm in algorithms.items():\n",
    "        data_copy = data[:]\n",
    "        duration, peak_memory = test_sorting_algorithm(algorithm, data_copy)\n",
    "        results[size][name] = (duration, peak_memory)\n",
    "        print(f\"Size: {size}, Algorithm: {name}, Time: {duration:.6f} seconds, Peak Memory: {peak_memory / 1024:.2f} KB\")\n",
    "\n",
    "# 输出结果\n",
    "for size in sizes:\n",
    "    print(f\"\\nArray Size: {size}\")\n",
    "    for name, (duration, peak_memory) in results[size].items():\n",
    "        print(f\"{name}: Time: {duration:.6f} seconds, Peak Memory: {peak_memory / 1024:.2f} KB\")\n"
   ]
  },
  {
   "cell_type": "markdown",
   "metadata": {},
   "source": [
    "### 6. 读取当前系统时间"
   ]
  },
  {
   "cell_type": "code",
   "execution_count": 3,
   "metadata": {},
   "outputs": [
    {
     "name": "stdout",
     "output_type": "stream",
     "text": [
      "当前系统时间: 2024-10-14 12:56:41.623047\n",
      "当前系统时间: 2024-10-14 12:56:41\n"
     ]
    }
   ],
   "source": [
    "# 6\n",
    "import datetime\n",
    "\n",
    "current_time = datetime.datetime.now()\n",
    "\n",
    "print(\"当前系统时间:\", current_time)\n",
    "print(\"当前系统时间:\", current_time.strftime(\"%Y-%m-%d %H:%M:%S\"))\n",
    "\n"
   ]
  },
  {
   "cell_type": "markdown",
   "metadata": {},
   "source": [
    "### 7. homework/data文件夹下的stuGrade.csv文件中包含5位同学的学号、语文成绩、数学成绩和英语成绩，请先用记事本打开该文件，查看文件内容，然后编写Python程序，读取该文件，并计算出各科的平均成绩（保留2位小数）。"
   ]
  },
  {
   "cell_type": "code",
   "execution_count": 11,
   "metadata": {},
   "outputs": [
    {
     "name": "stdout",
     "output_type": "stream",
     "text": [
      "列名: ['stuID', 'chinese', 'math', 'english']\n",
      "语文平均成绩: 82.60\n",
      "数学平均成绩: 81.00\n",
      "英语平均成绩: 81.80\n"
     ]
    }
   ],
   "source": [
    "# 7\n",
    "import csv\n",
    "\n",
    "# 定义文件路径\n",
    "file_path = 'stuGrade.csv'\n",
    "\n",
    "# 初始化变量\n",
    "chinese_total = 0\n",
    "math_total = 0\n",
    "english_total = 0\n",
    "student_count = 0\n",
    "\n",
    "# 读取CSV文件\n",
    "with open(file_path, newline='', encoding='utf-8') as csvfile:\n",
    "    reader = csv.DictReader(csvfile, delimiter=',')\n",
    "    \n",
    "    # 调试过程：打印列名以检查\n",
    "    # print(\"列名:\", reader.fieldnames)\n",
    "\n",
    "    for row in reader:\n",
    "        chinese_total += float(row['chinese'])\n",
    "        math_total += float(row['math'])\n",
    "        english_total += float(row['english'])\n",
    "        student_count += 1\n",
    "\n",
    "# 计算平均成绩并保留两位小数\n",
    "chinese_avg = round(chinese_total / student_count, 2)\n",
    "math_avg = round(math_total / student_count, 2)\n",
    "english_avg = round(english_total / student_count, 2)\n",
    "\n",
    "# 输出平均成绩\n",
    "print(f\"语文平均成绩: {chinese_avg:.2f}\")\n",
    "print(f\"数学平均成绩: {math_avg:.2f}\")\n",
    "print(f\"英语平均成绩: {english_avg:.2f}\")\n"
   ]
  },
  {
   "cell_type": "markdown",
   "metadata": {},
   "source": [
    "### 8. 请在第7题的代码继续编写Python程序，将以下内容写入my.txt文件中，一并上传到github中。"
   ]
  },
  {
   "cell_type": "code",
   "execution_count": 13,
   "metadata": {},
   "outputs": [
    {
     "name": "stdout",
     "output_type": "stream",
     "text": [
      "语文平均成绩: 82.60\n",
      "数学平均成绩: 81.00\n",
      "英语平均成绩: 81.80\n",
      "\n"
     ]
    }
   ],
   "source": [
    "# 8\n",
    "import csv\n",
    "\n",
    "# 定义文件路径\n",
    "file_path = 'stuGrade.csv'\n",
    "output_file = 'my.txt'  # 定义输出文件名称\n",
    "\n",
    "# 初始化变量\n",
    "chinese_total = 0\n",
    "math_total = 0\n",
    "english_total = 0\n",
    "student_count = 0\n",
    "\n",
    "# 读取CSV文件\n",
    "with open(file_path, newline='', encoding='utf-8') as csvfile:\n",
    "    reader = csv.DictReader(csvfile, delimiter=',')  # 确保使用逗号作为分隔符\n",
    "    \n",
    "    # 调试过程： 打印列名以检查\n",
    "    # print(\"列名:\", reader.fieldnames)\n",
    "\n",
    "    for row in reader:\n",
    "    #     调试过程： 尝试打印当前行，以帮助调试\n",
    "    #     print(row)  # 可以查看每行的内容和列名\n",
    "        \n",
    "        # 计算总分\n",
    "        chinese_total += float(row['chinese'])\n",
    "        math_total += float(row['math'])\n",
    "        english_total += float(row['english'])\n",
    "        student_count += 1\n",
    "\n",
    "# 计算平均成绩并保留两位小数\n",
    "if student_count > 0:  # 确保学生数量不为零\n",
    "    chinese_avg = round(chinese_total / student_count, 2)\n",
    "    math_avg = round(math_total / student_count, 2)\n",
    "    english_avg = round(english_total / student_count, 2)\n",
    "\n",
    "    # 输出平均成绩\n",
    "    output_text = (\n",
    "        f\"语文平均成绩: {chinese_avg:.2f}\\n\"\n",
    "        f\"数学平均成绩: {math_avg:.2f}\\n\"\n",
    "        f\"英语平均成绩: {english_avg:.2f}\\n\"\n",
    "    )\n",
    "    print(output_text)\n",
    "\n",
    "    # 将结果写入my.txt文件\n",
    "    with open(output_file, 'w', encoding='utf-8') as f:\n",
    "        f.write(output_text)\n",
    "else:\n",
    "    print(\"没有学生记录。\")\n"
   ]
  }
 ],
 "metadata": {
  "kernelspec": {
   "display_name": "Python 3",
   "language": "python",
   "name": "python3"
  },
  "language_info": {
   "codemirror_mode": {
    "name": "ipython",
    "version": 3
   },
   "file_extension": ".py",
   "mimetype": "text/x-python",
   "name": "python",
   "nbconvert_exporter": "python",
   "pygments_lexer": "ipython3",
   "version": "3.11.4"
  }
 },
 "nbformat": 4,
 "nbformat_minor": 2
}
